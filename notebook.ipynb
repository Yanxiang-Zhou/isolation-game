{
 "cells": [
  {
   "cell_type": "markdown",
   "metadata": {},
   "source": [
    "### If you are reading this notebook on the GitHub, please go to [README](./README.md) and follow installation instructions to set everything up locally, it's an interactive notebook and you need a local setup to execute the cells. "
   ]
  },
  {
   "cell_type": "markdown",
   "metadata": {},
   "source": [
    "---"
   ]
  },
  {
   "cell_type": "markdown",
   "metadata": {},
   "source": [
    "# Welcome to Assignment 2 - Skid Isolation!\n",
    "\n",
    "Your task is to create an AI that can play and win a game of Skid Isolation. Your AI will be tested against several pre-baked AIs as well as your peers’ AI systems. You will implement your AI in Python 3.7, using our provided code as a starting point. \n",
    "\n",
    "In case we haven't got this into your heads enough: **start early!!!** It is entirely possible, and probably likely, that a large part of your next 2 weeks will be devoted to this assignment, but we hope that it is worth it and you will really enjoy the assignment! \n",
    "\n",
    "Good luck!"
   ]
  },
  {
   "cell_type": "markdown",
   "metadata": {},
   "source": [
    "# Table of contents\n",
    "\n",
    "0. [About the Game](#About-the-Game)\n",
    "1. [Important Files](#Important-Files)\n",
    "2. [The Assignment](#The-Assignment)\n",
    "3. [Submissions & Grading](#Submissions-&-Grading)\n",
    "4. [Exporting the notebook](#Exporting-the-notebook)\n",
    "5. [Coding time!](#Coding-time!)\n",
    "6. [Section1a checkpoint!](#Section-1a-Checkpoint)\n",
    "7. [Section1b checkpoint!](#Section-1b-Checkpoint)\n",
    "8. [Section1c checkpoint!](#Section-1c-Checkpoint)\n",
    "9. [Bot fight!](#Botfight-(Extra-Credit))"
   ]
  },
  {
   "cell_type": "markdown",
   "metadata": {},
   "source": [
    "## About the Game"
   ]
  },
  {
   "cell_type": "markdown",
   "metadata": {},
   "source": [
    "The rules of Skid Isolation are a variation of the original Isolation. In the original form of the game there are two players, each with their own game piece, and a 7-by-7 grid of squares. At the beginning of the game, the first player places their piece on any square. The second player follows suit, and places their piece on any one of the available squares. From that point on, the players alternate turns moving their piece like a queen in chess (any number of open squares vertically, horizontally, or diagonally). When the piece is moved, the square that was previously occupied is blocked, and cannot be used for the remainder of the game. The first player who is unable to move their queen loses.\n",
    "\n",
    "In this variant called the Skid Isolation, each player leaves behind traces when they move their queen. We say the piece/queen \"skids\", and as a result the skid places a permanent block in the previously occupied block and the block \"just before\" the player's current position and the block \"just after\" the player's previous position. The opponent cannot move on or through squares blocked by this skid. For clarity, examine the scenario below:\n",
    "\n",
    "Q1 places their queen on the board, and Q2 follows suit.\n",
    "\n",
    "<div>\n",
    "<img src=\"./img/1.png\" width=\"500\"/>\n",
    "</div>\n",
    "\n",
    "Q1 makes a diagonal move across the board and leaves behind a skid, blocking some of Q2's potential future moves.\n",
    "\n",
    "<div>\n",
    "<img src=\"./img/2.png\" width=\"500\"/>\n",
    "</div>\n",
    "\n",
    "Q2 makes a move, leaving behind her own skid, blocking some of Q1's future potential moves, as well.\n",
    "\n",
    "<div>\n",
    "<img src=\"./img/3.png\" width=\"500\"/>\n",
    "</div>\n",
    "\n",
    "The game will continue in a similar fashion until either of the queens has no cells left to move.\n",
    "\n"
   ]
  },
  {
   "cell_type": "markdown",
   "metadata": {},
   "source": [
    "### For more clarity, You can try playing the game against the Random Player or yourself using the interactive tool below"
   ]
  },
  {
   "cell_type": "code",
   "execution_count": null,
   "metadata": {
    "scrolled": false
   },
   "outputs": [],
   "source": [
    "%run helpers/verify_config.py # verify the environment setup"
   ]
  },
  {
   "cell_type": "code",
   "execution_count": 1,
   "metadata": {},
   "outputs": [],
   "source": [
    "# Following two lines make sure anything imported from .py scripts \n",
    "# is automatically reloaded if edited & saved (e.g. local unit tests or players)\n",
    "%load_ext autoreload\n",
    "%autoreload 2\n",
    "from board_viz import ReplayGame, InteractiveGame\n",
    "from isolation import Board\n",
    "from test_players import RandomPlayer"
   ]
  },
  {
   "cell_type": "code",
   "execution_count": 3,
   "metadata": {},
   "outputs": [
    {
     "data": {
      "application/vnd.jupyter.widget-view+json": {
       "model_id": "c748efa191514789bdc48277cd8894d4",
       "version_major": 2,
       "version_minor": 0
      },
      "text/plain": [
       "GridspecLayout(children=(Button(description=' ', layout=Layout(grid_area='widget001', height='auto', width='au…"
      ]
     },
     "metadata": {},
     "output_type": "display_data"
    }
   ],
   "source": [
    "# replace RandomPlayer() with None if you want to play for both players\n",
    "#ig = InteractiveGame(RandomPlayer(), show_legal_moves=True)\n",
    "ig = InteractiveGame(None, show_legal_moves=True)"
   ]
  },
  {
   "cell_type": "markdown",
   "metadata": {},
   "source": [
    "### One other thing you can do is simulate a game between two players and replay it.\n",
    "\n",
    "**Run the next cell, click inside the text input box right above the slider and press Up or Down.**"
   ]
  },
  {
   "cell_type": "code",
   "execution_count": null,
   "metadata": {
    "scrolled": false
   },
   "outputs": [],
   "source": [
    "# Here is an example of how to visualise a game replay of 2 random players\n",
    "game = Board(RandomPlayer(), RandomPlayer(), 7, 7)\n",
    "winner, move_history, termination = game.play_isolation(time_limit=1000, print_moves=False)\n",
    "\n",
    "bg = ReplayGame(game, move_history, show_legal_moves=True)\n",
    "bg.show_board()"
   ]
  },
  {
   "cell_type": "markdown",
   "metadata": {},
   "source": [
    "# Important Files\n",
    "While you'll only have to edit `notebook.ipynb` and submit the exported `submission.py`, there are a number of notable files:\n",
    "\n",
    "1. `isolation.py`: Includes the `Board` class and a function for printing out a game as text. Do **NOT** change contents of this file. We have the same file on the server's side, so any changes will not be accounted for.\n",
    "2. `notebook.ipynb`: Where you'll implement the required methods for your agents.\n",
    "3. `player_submission_tests.py`: Sample tests to validate your agents locally.\n",
    "4. `test_players.py`: Contains 2 player types for you to test agents locally:\n",
    "    - `RandomPlayer` - chooses a legal move randomly from among the available legal moves\n",
    "    - `HumanPlayer` - allows *YOU* to play against the AI in terminal (else use `InteractiveGame` in jupyter)\n",
    "\n",
    "Additionally, we've included a number of local unit tests to help you test your player and evaluation function as well as to give you an idea of how the classes are used. Feel free to play around with them and add more."
   ]
  },
  {
   "cell_type": "markdown",
   "metadata": {},
   "source": [
    "# The Assignment\n",
    "\n",
    "In this assignment you will need to implement evaluation functions and game playing methods. Your goal is to implement the following parts of the notebook:\n",
    "\n",
    "1. Evaluation functions (`OpenMoveEvalFn` and `CustomEvalFn` if you wish to use the latter)\n",
    "2. The minimax algorithm (`minimax`)\n",
    "3. Alpha-beta pruning (`alphabeta`)\n",
    "4. Adjust the `move()` according to section you are trying to work on."
   ]
  },
  {
   "cell_type": "markdown",
   "metadata": {},
   "source": [
    "### Evaluation Functions\n",
    "\n",
    "These functions will inform the value judgements your AI will make when choosing moves. There are 2 classes:\n",
    "\n",
    "- `OpenMoveEvalFn` -Returns the number of available moves open for your player minus the number of moves available for opponent player. All baseline tests will use this function. **This is mandatory**\n",
    "- `CustomEvalFn` - You are encouraged to create your own evaluation function here.\n",
    "\n",
    "#### Notes on these classes\n",
    "1. You may write additional code within each class. However, we will only be invoking the `score()` function. You may not change the signature of this function.\n",
    "2. When writing additional code please try not to copy the existing cells since they contain `#export` comments that is used for converting the notebook to `submission.py` file. "
   ]
  },
  {
   "cell_type": "markdown",
   "metadata": {},
   "source": [
    "### CustomPlayer\n",
    "\n",
    "This is the meat of the assignment. A few notes about the class:\n",
    "\n",
    "- You are permitted to change the default values within the function signatures provided. In fact, when you have your custom evaluation function, you are encouraged to change the default values for `__init__` to use the new eval function.\n",
    "- You are free change the contents of each of the provided methods. When you are ready with `alphabeta()`, for example, you should update `move()` to use that function instead.\n",
    "- You are free to add more methods to the class.\n",
    "- You may not create additional external functions and classes that are referenced from within this class.\n",
    "\n",
    "Your agent will have a limited amount of time to act each turn (1 second). We will call these functions directly so **don’t modify** the function names and their parameter order."
   ]
  },
  {
   "cell_type": "markdown",
   "metadata": {},
   "source": [
    "We have divided the tests into three sections (mentioned in details in next grading section below), each with their own submission limit.\n",
    "\n",
    "These are the bare minimum requirements for your AI, and the rest is up to you. You will be scored according to how well your AI performs against some baseline AIs that we provide (see [Grading](#Submissions-&-Grading)). If you want to improve over the base performance, here are a few suggestions:\n",
    "\n",
    "- Use partition techniques.\n",
    "- Store the evaluation scores for past moves.\n",
    "- Modify your evaluation function to account for “killer moves”.\n",
    "- Optimize functions that are called often.\n",
    "- Order nodes to maximize pruning."
   ]
  },
  {
   "cell_type": "markdown",
   "metadata": {},
   "source": [
    "# Submissions & Grading\n",
    "\n",
    "The grade you receive for the assignment will be determined as follows:\n",
    "\n",
    "| Section | Points    | Condition |\n",
    "| ------- | --------- | --------- |\n",
    "| 1a | 5 points | You write an evaluation function, OpenMoveEval, which returns the number of moves that the AI minus the number of moves opponent can make, and your evaluation function performs correctly on some sample boards we provide. |\n",
    "| 1a | 30 points | Your AI defeats a random player >= 90% of the time. |\n",
    "| 1b | 20 points | Your AI defeats an agent with OpenMoveEval function that uses minimax to level 2  >= 70% of the times. |\n",
    "| 1b | 20 points | Your AI defeats an agent with OpenMoveEval function that uses alphabeta to level 4  >= 70% of the times. |\n",
    "| 1c | 20 points | Your AI defeats an agent with OpenMoveEval function that uses iterative deepening and alpha-beta pruning >= 70% of the time. |\n",
    "| 1c | 5 points | Your AI defeats an agent with Peter's secret evaluation function that uses iterative deepening and alpha-beta pruning and optimizes various aspects of the game player >= 80% of the time  |\n",
    "\n",
    "As you can see from the table there are three autograded sections, each having the following submission frequency restrictions:\n",
    "- **Section 1a** - 1 submission per 30 minutes.\n",
    "- **Section 1b** - 3 submissions per 360 minutes.\n",
    "- **Section 1c** - 3 submissions per 360 minutes."
   ]
  },
  {
   "cell_type": "markdown",
   "metadata": {},
   "source": [
    "We will provide you checkpoints and instructions below once you are ready to submit for each of these sections."
   ]
  },
  {
   "cell_type": "markdown",
   "metadata": {},
   "source": [
    "# Exporting the notebook"
   ]
  },
  {
   "cell_type": "markdown",
   "metadata": {},
   "source": [
    "In order to do get your submission file ready you will need to make sure have **saved your notebook** and run:"
   ]
  },
  {
   "cell_type": "code",
   "execution_count": null,
   "metadata": {},
   "outputs": [],
   "source": [
    "# %run helpers/notebook2script section1a"
   ]
  },
  {
   "cell_type": "markdown",
   "metadata": {},
   "source": [
    "Once execution is complete open autogenerated `submission.py` and verify that it contains all of the imports, functions and classes you are required to implement. Only then you can proceed to the Gradescope for submission.\n",
    "\n",
    "**Do NOT erase the `#export` at the top of any cells as it is used by `notebook2script.py` to extract cells for submission.**"
   ]
  },
  {
   "cell_type": "markdown",
   "metadata": {},
   "source": [
    "# Coding time!"
   ]
  },
  {
   "cell_type": "markdown",
   "metadata": {},
   "source": [
    "## Importing External Modules"
   ]
  },
  {
   "cell_type": "code",
   "execution_count": null,
   "metadata": {},
   "outputs": [],
   "source": [
    "# Following two lines make sure anything imported from .py scripts \n",
    "# is automatically reloaded if edited & saved (e.g. local unit tests or players)\n",
    "%load_ext autoreload\n",
    "%autoreload 2\n",
    "import player_submission_tests as tests\n",
    "from test_players import HumanPlayer, RandomPlayer"
   ]
  },
  {
   "cell_type": "code",
   "execution_count": null,
   "metadata": {},
   "outputs": [],
   "source": [
    "#export\n",
    "import time\n",
    "from isolation import Board"
   ]
  },
  {
   "cell_type": "markdown",
   "metadata": {},
   "source": [
    "If you have discussed this assignment at a whiteboard level, got help from Piazza or have used external resources (not provided by the instructors) that you may want to cite, please do so in the cell below as a python comment! (no need to cite python or included packages documentation)"
   ]
  },
  {
   "cell_type": "code",
   "execution_count": null,
   "metadata": {},
   "outputs": [],
   "source": [
    "#export\n",
    "# Credits if any\n",
    "# 1)\n",
    "# 2)\n",
    "# 3)"
   ]
  },
  {
   "cell_type": "markdown",
   "metadata": {},
   "source": [
    "## OpenMoveEvalFn\n",
    "- This is where you write your evaluation function to evaluate the state of the board.\n",
    "- The test cases below the code are expected to pass locally before you make a submission.\n",
    "- Hints: Remember when calling the below helpful methods that you do need to inform both methods of who your player is (consult those methods' docstrings for more information).\n",
    "\n",
    "Here are a couple methods you might find useful to implement `OpenMoveEvalFn()`:"
   ]
  },
  {
   "cell_type": "code",
   "execution_count": null,
   "metadata": {},
   "outputs": [],
   "source": [
    "Board.get_player_moves??"
   ]
  },
  {
   "cell_type": "code",
   "execution_count": null,
   "metadata": {},
   "outputs": [],
   "source": [
    "Board.get_opponent_moves??"
   ]
  },
  {
   "cell_type": "code",
   "execution_count": null,
   "metadata": {},
   "outputs": [],
   "source": [
    "#export\n",
    "class OpenMoveEvalFn:\n",
    "    def score(self, game, my_player=None):\n",
    "        \"\"\"Score the current game state\n",
    "        Evaluation function that outputs a score equal to how many\n",
    "        moves are open for AI player on the board minus how many moves\n",
    "        are open for Opponent's player on the board.\n",
    "\n",
    "        Note:\n",
    "            If you think of better evaluation function, do it in CustomEvalFn below.\n",
    "\n",
    "            Args\n",
    "                game (Board): The board and game state.\n",
    "                my_player (Player object): This specifies which player you are.\n",
    "\n",
    "            Returns:\n",
    "                float: The current state's score. MyMoves-OppMoves.\n",
    "\n",
    "            \"\"\"\n",
    "\n",
    "        # TODO: finish this function!\n",
    "        if len(game.get_active_moves) == 0:\n",
    "            return float(-1e9)\n",
    "        \n",
    "        if len(game.get_inactive_moves()) == 0:\n",
    "            return float(1e9)\n",
    "\n",
    "        player_moves = len(game.get_active_moves())\n",
    "        opponent_moves = len(game.get_inactive_moves())\n",
    "        \n",
    "        return float(player_moves - opponent_moves)\n",
    "        \n",
    "\n",
    "\n",
    "######################################################################\n",
    "########## DON'T WRITE ANY CODE OUTSIDE THE FUNCTION! ################\n",
    "######## IF YOU WANT TO CALL OR TEST IT CREATE A NEW CELL ############\n",
    "######################################################################\n",
    "##### CODE BELOW IS USED FOR RUNNING LOCAL TEST DON'T MODIFY IT ######\n",
    "tests.correctOpenEvalFn(OpenMoveEvalFn)\n",
    "################ END OF LOCAL TEST CODE SECTION ######################"
   ]
  },
  {
   "cell_type": "markdown",
   "metadata": {},
   "source": [
    "## About the local test above\n",
    "If you want to edit the test (which you most definitely can), then edit the source code back in `player_submission_tests.py`."
   ]
  },
  {
   "cell_type": "markdown",
   "metadata": {},
   "source": [
    "---"
   ]
  },
  {
   "cell_type": "markdown",
   "metadata": {},
   "source": [
    "## CustomPlayer\n",
    "- CustomPlayer is the player object that will be used to play the game of isolation.\n",
    "- The `move()` method will be used to pass over to you the current state of the game board.\n",
    "- The content of the `move()` method will be changed by you according to the section you are attempting to pass. While you can use Iterative Deepening & Alpha-Beta (ID+AB) to beat our agents in all of the sections, going directly for ID+AB is error prone. As such, we highly recommend you to start with MiniMax (MM), then implement Alpha-Beta (AB), and only then go for ID+AB.\n",
    "- By default, right now `move()` calls `minimax()` as you can see below.\n",
    "- You are not allowed to modify the function signatures or class signatures we provide. However, in case you want to have an additonal parameter you can do it at the very end of parameter list (see examples below). However, it must have a default value and you shouldn't expect it to be passed on the server-side (i.e. Gradescope). Thus, Gradescope will be using the default value.\n",
    "\n",
    "Originally:\n",
    "```python\n",
    "def move(self, game, time_left):\n",
    "    ...\n",
    "```\n",
    "Adding a new argument with default parameter.\n",
    "```python\n",
    "def move(self, game, time_left, new_parameter=default_value):\n",
    "    ...\n",
    "```\n",
    "\n",
    "Don't do this, you will get an error in the auto-grader and lose your submission:\n",
    "```python\n",
    "def move(self, game, time_left, new_parameter):\n",
    "    ...\n",
    "```\n",
    "```python\n",
    "def move(self, new_parameter, game, time_left):\n",
    "    ...\n",
    "```\n"
   ]
  },
  {
   "cell_type": "code",
   "execution_count": null,
   "metadata": {},
   "outputs": [],
   "source": [
    "#export\n",
    "class CustomPlayer:\n",
    "    # TODO: finish this class!\n",
    "    \"\"\"Player that chooses a move using your evaluation function\n",
    "    and a minimax algorithm with alpha-beta pruning.\n",
    "    You must finish and test this player to make sure it properly\n",
    "    uses minimax and alpha-beta to return a good move.\"\"\"\n",
    "\n",
    "    def __init__(self, search_depth=3, eval_fn=OpenMoveEvalFn()):\n",
    "        \"\"\"Initializes your player.\n",
    "        \n",
    "        if you find yourself with a superior eval function, update the default\n",
    "        value of `eval_fn` to `CustomEvalFn()`\n",
    "        \n",
    "        Args:\n",
    "            search_depth (int): The depth to which your agent will search\n",
    "            eval_fn (function): Evaluation function used by your agent\n",
    "        \"\"\"\n",
    "        self.eval_fn = eval_fn\n",
    "        self.search_depth = search_depth\n",
    "    \n",
    "    def move(self, game, time_left):\n",
    "        \"\"\"Called to determine one move by your agent\n",
    "\n",
    "        Note:\n",
    "            1. Do NOT change the name of this 'move' function. We are going to call\n",
    "            this function directly.\n",
    "            2. Call alphabeta instead of minimax once implemented.\n",
    "        Args:\n",
    "            game (Board): The board and game state.\n",
    "            time_left (function): Used to determine time left before timeout\n",
    "\n",
    "        Returns:\n",
    "            tuple: (int,int): Your best move\n",
    "        \"\"\"\n",
    "        best_move, utility = minimax(self, game, time_left, depth=self.search_depth)\n",
    "        return best_move\n",
    "\n",
    "    def utility(self, board, ff, winner, my_turn):\n",
    "        \"\"\"You can handle special cases here (e.g. endgame)\"\"\"\n",
    "        if winner == self.__active_players_queen__:\n",
    "            return float(\"inf\")\n",
    "        \n",
    "        if winner == self.__active_players_queen__:\n",
    "            return float(\"-inf\")\n",
    "        \n",
    "        return self.eval_fn.score(game, self)\n",
    "\n",
    "###################################################################\n",
    "########## DON'T WRITE ANY CODE OUTSIDE THE CLASS! ################\n",
    "###### IF YOU WANT TO CALL OR TEST IT CREATE A NEW CELL ###########\n",
    "###################################################################"
   ]
  },
  {
   "cell_type": "markdown",
   "metadata": {},
   "source": [
    "## Minimax\n",
    "- This is where you will implement the minimax algorithm. The final output of your minimax should come from this method and this is the only method that Gradescope will call when testing minimax.\n",
    "- With MM implemented you are expected to pass: **Defeat a Random Player >=90% of the time.**\n",
    "- Useful functions: The useful methods will probably all come from isolation.py. A couple of particularly interesting ones could be `forecast_move()` and your `score()` method from OpenMoveEvalFn. Remember the double question mark trick from Assignment 0 if you feel you are flipping between files too much!"
   ]
  },
  {
   "cell_type": "code",
   "execution_count": null,
   "metadata": {},
   "outputs": [],
   "source": [
    "#export\n",
    "\n",
    "def minimax(player, game, time_left, depth, my_turn=True):\n",
    "    \"\"\"Implementation of the minimax algorithm.\n",
    "    Args:\n",
    "        player (CustomPlayer): This is the instantiation of CustomPlayer()\n",
    "            that represents your agent. It is used to call anything you\n",
    "            need from the CustomPlayer class (the utility() method, for example,\n",
    "            or any class variables that belong to CustomPlayer()).\n",
    "        game (Board): A board and game state.\n",
    "        time_left (function): Used to determine time left before timeout\n",
    "        depth: Used to track how deep you are in the search tree\n",
    "        my_turn (bool): True if you are computing scores during your turn.\n",
    "\n",
    "    Returns:\n",
    "        (tuple, int): best_move, val\n",
    "    \"\"\"\n",
    "\n",
    "    # TODO: finish this function!\n",
    "    moves = game.get_active_moves()\n",
    "    best_move = moves[0]\n",
    "    best_score = float('-inf')\n",
    "    for move in moves:\n",
    "        board, ff, winner = game.forecast_move(move)\n",
    "        score = self.minimax_maxvalue(board, ff, winner, depth, timeleft, my_turn)\n",
    "        if score > best_score:\n",
    "            best_move = move\n",
    "            best_score = score\n",
    "    return best_move\n",
    "\n",
    "\n",
    "def minimax_maxvalue(self, board, ff, winner, depth, timeleft, my_turn):\n",
    "    if depth == 0 or timeleft() < 500 or ff:\n",
    "        return self.utility(board, ff, winner, my_turn)\n",
    "\n",
    "    moves = gamestate.get_active_moves()\n",
    "    best_score = float('-inf')\n",
    "    for move in moves:\n",
    "        board, ff, winner = board.forecast_move(move)\n",
    "        score = self.minimax_minvalue(board, ff, winner, depth - 1, timeleft, False)\n",
    "        if score > best_score:\n",
    "            best_score = score\n",
    "    return best_score\n",
    "######################################################################\n",
    "########## DON'T WRITE ANY CODE OUTSIDE THE FUNCTION! ################\n",
    "######## IF YOU WANT TO CALL OR TEST IT CREATE A NEW CELL ############\n",
    "######################################################################\n",
    "##### CODE BELOW IS USED FOR RUNNING LOCAL TEST DON'T MODIFY IT ######\n",
    "tests.beatRandom(CustomPlayer)\n",
    "tests.minimaxTest(CustomPlayer, minimax)  \n",
    "################ END OF LOCAL TEST CODE SECTION ######################"
   ]
  },
  {
   "cell_type": "markdown",
   "metadata": {},
   "source": [
    "---\n",
    "## Section 1a Checkpoint\n",
    "### Now it's a good time to submit for Section1a - See [Exporting the notebook](#Exporting-the-notebook)\n",
    "\n",
    "In case you want to submit please uncomment and run the cell below.\n",
    "\n",
    "Your code will be generated in the folder named `section1a`, please upload `submission.py` file to [Gradescope](https://www.gradescope.com/)"
   ]
  },
  {
   "cell_type": "code",
   "execution_count": null,
   "metadata": {},
   "outputs": [],
   "source": [
    "# %run helpers/notebook2script section1a"
   ]
  },
  {
   "cell_type": "markdown",
   "metadata": {},
   "source": [
    "---"
   ]
  },
  {
   "cell_type": "markdown",
   "metadata": {},
   "source": [
    "## AlphaBeta\n",
    "- This is where you will implement the alphabeta algorithm. The final output of your alphabeta should come from this method.\n",
    "- With A/B implemented you are expected to pass: **Minimax level 2 >= 70% of the time**\n",
    "- Useful functions: The useful methods will probably all come from `isolation.py`. A couple of particularly interesting ones could be `forecast_move()` and your `score()` method from OpenMoveEvalFn. Remember the double question mark trick from Assignment 0 if you feel you are flipping between files too much!"
   ]
  },
  {
   "cell_type": "code",
   "execution_count": null,
   "metadata": {},
   "outputs": [],
   "source": [
    "#export\n",
    "def alphabeta(player, game, time_left, depth, alpha=float(\"-inf\"), beta=float(\"inf\"), my_turn=True):\n",
    "    \"\"\"Implementation of the alphabeta algorithm.\n",
    "    \n",
    "    Args:\n",
    "        player (CustomPlayer): This is the instantiation of CustomPlayer() \n",
    "            that represents your agent. It is used to call anything you need \n",
    "            from the CustomPlayer class (the utility() method, for example, \n",
    "            or any class variables that belong to CustomPlayer())\n",
    "        game (Board): A board and game state.\n",
    "        time_left (function): Used to determine time left before timeout\n",
    "        depth: Used to track how deep you are in the search tree\n",
    "        alpha (float): Alpha value for pruning\n",
    "        beta (float): Beta value for pruning\n",
    "        my_turn (bool): True if you are computing scores during your turn.\n",
    "        \n",
    "    Returns:\n",
    "        (tuple, int): best_move, val\n",
    "    \"\"\"\n",
    "    \n",
    "    # TODO: finish this function!\n",
    "    raise NotImplementedError\n",
    "\n",
    "\n",
    "######################################################################\n",
    "########## DON'T WRITE ANY CODE OUTSIDE THE FUNCTION! ################\n",
    "######## IF YOU WANT TO CALL OR TEST IT CREATE A NEW CELL ############\n",
    "######################################################################\n",
    "##### CODE BELOW IS USED FOR RUNNING LOCAL TEST DON'T MODIFY IT ######\n",
    "# tests.name_of_the_test #you can uncomment this line to run your test\n",
    "################ END OF LOCAL TEST CODE SECTION ######################"
   ]
  },
  {
   "cell_type": "markdown",
   "metadata": {},
   "source": [
    "## About the lack of a local test above\n",
    "Notice that we do not have any code here. We want you to learn to write your own test cases, so feel free to get creative! You can always create the test in `player_submission_tests.py` and then run it over here in a manner identical to how local tests have been run so far."
   ]
  },
  {
   "cell_type": "markdown",
   "metadata": {},
   "source": [
    "**IMPORTANT**\n",
    "\n",
    "Now remember that the server (i.e. Gradescope) uses `move()` to interface with your code. So now you will need to update the `move()` method (which you saw earlier in the CustomPlayer class) to call `alphabeta()` so as to return the best move."
   ]
  },
  {
   "cell_type": "markdown",
   "metadata": {},
   "source": [
    "---\n",
    "## Section 1b Checkpoint\n",
    "### Now it's a good time to submit for Section1b - See [Exporting the notebook](#Exporting-the-notebook)\n",
    "\n",
    "In case you want to submit please uncomment and run the cell below.\n",
    "\n",
    "Your code will be generated in the folder named `section1b`. Please upload `submission.py` file to [Gradescope](https://www.gradescope.com/)"
   ]
  },
  {
   "cell_type": "code",
   "execution_count": null,
   "metadata": {},
   "outputs": [],
   "source": [
    "# %run helpers/notebook2script section1b"
   ]
  },
  {
   "cell_type": "markdown",
   "metadata": {},
   "source": [
    "---"
   ]
  },
  {
   "cell_type": "markdown",
   "metadata": {},
   "source": [
    "## That does not cover all 100 points though!\n",
    "- You're right, and that's on purpose. Each of the bullets below try to walk you through how you may want to think about beating the remaining agents.\n",
    "    - First up is the alphabeta agent. Vanilla alphabeta (that is, alphabeta with no optimization) may not do so well against this agent. However, any agent that searches deeper with the same algorithm probably has a bigger advantage. You may learn about a method that allows your algorithm to search in such a way that you can find the maximum search depth without running out of time. This will probably come up in class or you can read through the book to find out what you are looking for.\n",
    "    - Next to beat is the agent with iterative deepening. This one is a little harder to think about, given that you may have used all the tools that you may think of to try a make a \"better\" agent. But you may have just implemented the evaluation function that was discussed in class. Maybe we can do better - like checking for winning moves and prioritizing those! Or if you are feeling really creative, you can always try editing the `CustomEvalFn` below this cell and come up with an awesome idea of your own.\n",
    "    - Now to Peter's agent with the secret evaluation function. Here we have nothing to tell you. Use everything in your toolbox and within the class rules to defeat it. This is by far the hardest 5 points to get! Good luck and have fun!\n",
    "    \n",
    "- Remember that you may want to edit the methods in the cell with the `CustomPlayer` class to try and implement some of the above. You are certainly free to as long as you adhere to the general rules about editing provided code (which can be found by reading the cell above the `CustomPlayer` code)."
   ]
  },
  {
   "cell_type": "markdown",
   "metadata": {},
   "source": [
    "## CustomEvalFn\n",
    "- Edit the below to come up with your very own improved evaluation function. The typical rules about how you can and cannot edit the code we have given (namely, the function signature rules) apply here.\n",
    "- **IMPORTANT**: There's one big thing to keep in mind when the below is exported to `submission.py`. When the export happens, your resulting `submission.py` is parsed top-down, so you may have errors when trying to run that file with a custom evaluation function.\n",
    "    - The fix is to make sure this does not happen is to follow these steps: Use \"Edit->Move Cell Up\" to move the below cell to just above the first time you call CustomEvalFn (probably in CustomPlayer) -> Now run `helpers/notebook.ipynb` -> Submit the resulting `submission.py` to Gradescope to test your submission."
   ]
  },
  {
   "cell_type": "code",
   "execution_count": null,
   "metadata": {},
   "outputs": [],
   "source": [
    "#export\n",
    "class CustomEvalFn:\n",
    "    def __init__(self):\n",
    "        pass\n",
    "\n",
    "    def score(self, game, my_player=None):\n",
    "        \"\"\"Score the current game state.\n",
    "        \n",
    "        Custom evaluation function that acts however you think it should. This\n",
    "        is not required but highly encouraged if you want to build the best\n",
    "        AI possible.\n",
    "        \n",
    "        Args:\n",
    "            game (Board): The board and game state.\n",
    "            my_player (Player object): This specifies which player you are.\n",
    "            \n",
    "        Returns:\n",
    "            float: The current state's score, based on your own heuristic.\n",
    "        \"\"\"\n",
    "\n",
    "        # TODO: finish this function!\n",
    "        raise NotImplementedError\n",
    "\n",
    "######################################################################\n",
    "############ DON'T WRITE ANY CODE OUTSIDE THE CLASS! #################\n",
    "######## IF YOU WANT TO CALL OR TEST IT CREATE A NEW CELL ############\n",
    "######################################################################"
   ]
  },
  {
   "cell_type": "markdown",
   "metadata": {},
   "source": [
    "Now you may need to change the `move()` method again in the CustomPlayer class. In addition, you may also need to edit `eval_fn()` in CustomPlayer to have your agent use the above custom evaluation function when it is playing against the test agents."
   ]
  },
  {
   "cell_type": "markdown",
   "metadata": {},
   "source": [
    "---\n",
    "## Section 1c Checkpoint\n",
    "### Now it's a good time to submit for Section1c - See [Exporting the notebook](#Exporting-the-notebook)\n",
    "\n",
    "In case you want to submit please uncomment and run the cell below.\n",
    "\n",
    "Your code will be generated in the folder named `section1c`. Please upload `submission.py` file to [Gradescope](https://www.gradescope.com/)"
   ]
  },
  {
   "cell_type": "code",
   "execution_count": null,
   "metadata": {},
   "outputs": [],
   "source": [
    "# %run helpers/notebook2script section1c"
   ]
  },
  {
   "cell_type": "markdown",
   "metadata": {},
   "source": [
    "---"
   ]
  },
  {
   "cell_type": "markdown",
   "metadata": {},
   "source": [
    "# Botfight (Extra Credit)\n",
    "\n",
    "In addition to the basic assignment, you will have the option to compete against your peers for the glory of being the **Summer 2022 AI-Game-Playing champ**. We’ll set up a system to pit your AI against others, and we’ll be handing out extra credit for the top players. May the odds be ever in your favor.\n",
    "\n",
    "If you compete in the AI tournament and your agent finishes in the top 10, you will receive bonus points for this assignment **(bonus points are added to the grades of each assignment. Not to final score. )**:\n",
    "\n",
    "- Best Overall:  12 bonus points added to the assignment score.\n",
    "- Second Best: 10 bonus points.\n",
    "- Third Best: 7 bonus points.\n",
    "- Fourth to Tenth Best: 5 bonus points.\n",
    "\n",
    "To make your submission simply upload a file called `submission.py` (similar to what you have been doing so far) with your best agent implementation to Canvas."
   ]
  },
  {
   "cell_type": "markdown",
   "metadata": {},
   "source": [
    "---"
   ]
  },
  {
   "cell_type": "markdown",
   "metadata": {},
   "source": [
    "# Contribute to the class"
   ]
  },
  {
   "cell_type": "markdown",
   "metadata": {},
   "source": [
    "If you find any typos and/or have some issues or suggestions on how to improve this or any future assignments, please feel free to create a Pull Request or make a Piazza post."
   ]
  },
  {
   "cell_type": "markdown",
   "metadata": {},
   "source": [
    "---\n",
    "<!-- Hi there! -->"
   ]
  }
 ],
 "metadata": {
  "kernelspec": {
   "display_name": "Python 3 (ipykernel)",
   "language": "python",
   "name": "python3"
  },
  "language_info": {
   "codemirror_mode": {
    "name": "ipython",
    "version": 3
   },
   "file_extension": ".py",
   "mimetype": "text/x-python",
   "name": "python",
   "nbconvert_exporter": "python",
   "pygments_lexer": "ipython3",
   "version": "3.9.12"
  }
 },
 "nbformat": 4,
 "nbformat_minor": 2
}
